{
 "cells": [
  {
   "cell_type": "code",
   "execution_count": 1,
   "metadata": {},
   "outputs": [],
   "source": [
    "import numpy as np\n",
    "import matplotlib.pyplot as plt\n",
    "import matplotlib.dates as mdates\n",
    "import matplotlib.ticker as mticks \n",
    "import pandas as pd\n",
    "import dateutil\n",
    "import dateutil.parser as dp\n",
    "import argparse\n",
    "import scipy.stats \n",
    "import warnings\n",
    "import glob\n",
    "import os\n",
    "import re\n",
    "import SETTINGS\n",
    "\n",
    "warnings.filterwarnings(\"ignore\", category=DeprecationWarning) \n",
    "warnings.filterwarnings(\"ignore\", category=RuntimeWarning)\n",
    "warnings.filterwarnings(\"ignore\", category=np.VisibleDeprecationWarning)"
   ]
  },
  {
   "cell_type": "code",
   "execution_count": 2,
   "metadata": {},
   "outputs": [
    {
     "name": "stdout",
     "output_type": "stream",
     "text": [
      "194\n"
     ]
    }
   ],
   "source": [
    "start_date = '20181025'\n",
    "end_date = '20201218'\n",
    "\n",
    "start_date_dt = dp.parse(start_date) \n",
    "end_date_dt = dp.parse(end_date) \n",
    "\n",
    "min_date = dp.parse(SETTINGS.MIN_START_DATE)\n",
    "max_date = dp.parse(SETTINGS.MAX_END_DATE)\n",
    "\n",
    "if start_date_dt < min_date or end_date_dt > max_date:\n",
    "    raise ValueError(f'Date must be in range {SETTINGS.MIN_START_DATE} - {SETTINGS.MAX_END_DATE}')\n",
    "\n",
    "phi_dir = os.path.join(SETTINGS.PHI_DIR)\n",
    "img_dir = os.path.join(SETTINGS.Z_CALIB_DIR,'images/')\n",
    "if not os.path.exists(img_dir):\n",
    "    os.makedirs(img_dir)\n",
    "filelist1 = glob.glob(phi_dir+\"phiest*\")\n",
    "filelist2 = glob.glob(phi_dir+\"phiobs*\")\n",
    "filelist1.sort()\n",
    "filelist2.sort()\n",
    "dates=[]\n",
    "ind=[]\n",
    "\n",
    "if len(filelist1) != len(filelist2):\n",
    "    raise ValueError(\"Number of phiest and phiobs files does not match!\")\n",
    "\n",
    "#Loop through files to find the indices of those between the inputted start and end dates\n",
    "for f in range(0,len(filelist1)):\n",
    "    match = re.search(r'\\d{8}',filelist1[f])\n",
    "    #print(match)\n",
    "    #print(filelist1[f])\n",
    "    file=match.group()\n",
    "    #print(file)\n",
    "    file_dt=dp.parse(file)\n",
    "    if file_dt >= start_date_dt and file_dt <= end_date_dt:\n",
    "        ind.append(f)\n",
    "        dates.append(file)\n",
    "\n",
    "ndays=len(ind)\n",
    "print(ndays)"
   ]
  },
  {
   "cell_type": "code",
   "execution_count": 3,
   "metadata": {},
   "outputs": [],
   "source": [
    "#If the number of elevation angles in the volumes changes over time, then the total number of rays also varies\n",
    "#This loop finds the maximum number of rays\n",
    "for f in range(0,ndays):\n",
    "    file=np.load(filelist1[ind[f]])\n",
    "    if f==0:\n",
    "        [_,a]=file.shape\n",
    "        nrays=a\n",
    "    else:\n",
    "        [_,a2]=file.shape\n",
    "        if a2>a:\n",
    "            nrays=a2\n",
    "\n",
    "#Number of volumes can vary each day    \n",
    "nvols=250\n",
    "phiest=np.zeros((ndays,nvols,nrays))*np.nan\n",
    "phiobs=np.zeros((ndays,nvols,nrays))*np.nan\n",
    "good_rays=np.zeros((ndays,nvols))*np.nan\n",
    "x=np.zeros((nvols,nrays))*np.nan"
   ]
  },
  {
   "cell_type": "code",
   "execution_count": 4,
   "metadata": {},
   "outputs": [
    {
     "name": "stdout",
     "output_type": "stream",
     "text": [
      "Mean bias =  -0.9870265489858667 Median bias =  -0.9467310834558802 Standard Deviation =  0.8734551604977234\n",
      "MB 2 = -0.987026548985865\n"
     ]
    }
   ],
   "source": [
    "#Load each phiest and phiobs data for each day and store into 3D array. \n",
    "#Calculate number of good rays for each day/volume\n",
    "d=0\n",
    "for f in range(0,ndays):\n",
    "    phiest1 = np.load(filelist1[ind[f]])\n",
    "    [a,b] = phiest1.shape\n",
    "    phiest[d,0:a,0:b] = phiest1    \n",
    "    phiobs1 = np.load(filelist2[ind[f]])\n",
    "    [a,b] = phiobs1.shape\n",
    "    phiobs[d,0:a,0:b] = phiobs1\n",
    "    d=d+1\n",
    "\n",
    "#Calculate number of good rays in each volume. good_rays(ndays,nvols)\n",
    "for j in range(ndays):    \n",
    "    for i in range(nvols):\n",
    "        good_rays[j,i] = np.nansum(np.isfinite(phiest[j,i,:]))\n",
    "\n",
    "#bias_each_ray (ndays,nvols,nrays)\n",
    "#Calculate a bias/offset for each individual ray\n",
    "bias_each_ray = (phiest - phiobs) / phiobs\n",
    "\n",
    "#Only use volumes with more than 10 good rays for calculation of overall bias.\n",
    "ind = good_rays>10\n",
    "\n",
    "#SINGLE VALUES FOR WHOLE TIME PERIOD\n",
    "mean_bias = np.nanmean(bias_each_ray[ind,:])\n",
    "mean_bias_db = 10.0*np.log10(1000+mean_bias*1000)-30\n",
    "mean_bias_db_2 = 10*np.log10(10*(mean_bias+1)) - 10*np.log10(10)\n",
    "\n",
    "median_bias = np.nanmedian(bias_each_ray[ind,:])\n",
    "median_bias_db = 10.0*np.log10(1000.0+median_bias*1000.0)-30.0\n",
    "\n",
    "std = np.nanstd(bias_each_ray[ind,:])\n",
    "std_db = 10.0*np.log10(1000.0+std*1000.0)-30.0\n",
    "\n",
    "print('Mean bias = ', mean_bias_db, 'Median bias = ', median_bias_db, 'Standard Deviation = ', std_db)\n",
    "print('MB 2 =', mean_bias_db_2)"
   ]
  },
  {
   "cell_type": "code",
   "execution_count": 75,
   "metadata": {},
   "outputs": [],
   "source": [
    "#DAILY VALUES OF BIAS\n",
    "mean_bias_each_day=np.zeros(ndays)*np.nan\n",
    "median_bias_each_day=np.zeros(ndays)*np.nan\n",
    "std_each_day=np.zeros(ndays)*np.nan\n",
    "std_error_each_day = np.zeros(ndays)*np.nan\n",
    "num_rays_day=np.zeros(ndays)\n",
    "\n",
    "for day in range(ndays):\n",
    "    #good_rays has shape (days,vols)\n",
    "    #find index for volumes with more than 10 good rays\n",
    "    ind = good_rays[day,:]>10\n",
    "    #find all rays on each day within these volumes\n",
    "    bias_one_day = bias_each_ray[day,ind,:].flatten()\n",
    "    std_error_each_day[day] = scipy.stats.sem(bias_one_day,nan_policy='omit')\n",
    "    mean_bias_each_day[day] = np.nanmean(bias_one_day)\n",
    "    median_bias_each_day[day] = np.nanmedian(bias_one_day)\n",
    "    std_each_day[day] = np.nanstd(bias_one_day)\n",
    "    \n",
    "    #ind2 = np.isfinite(bias_one_day)        \n",
    "    #if np.sum(ind2)>0:\n",
    "        #std_error_each_day[day] = scipy.stats.sem(bias_one_day[ind2])\n",
    "        #mean_bias_each_day[day] = np.nanmean(bias_one_day)\n",
    "        #median_bias_each_day[day] = np.nanmedian(bias_one_day)\n",
    "        #std_each_day[day] = np.nanstd(bias_one_day)\n",
    "\n",
    "    #Number of rays for each day\n",
    "    num_rays_day[day] = np.sum(np.isfinite(bias_one_day))\n",
    "\n",
    "        \n",
    "#Convert to dB \n",
    "mean_bias_each_day_db = 10.0*np.log10(1000.0+mean_bias_each_day*1000.0)-30.0\n",
    "median_bias_each_day_db = 10.0*np.log10(1000.0+median_bias_each_day*1000.0)-30.0\n",
    "std_each_day_db = 10.0*np.log10(1000.0+std_each_day*1000.0)-30.0\n",
    "std_error_each_day_db = 10.0*np.log10(1000.0+std_error_each_day*1000.0)-30.0"
   ]
  },
  {
   "cell_type": "code",
   "execution_count": 78,
   "metadata": {},
   "outputs": [],
   "source": [
    "#Put data into dataframe\n",
    "time = pd.to_datetime(dates, format = '%Y%m%d')\n",
    "data = pd.DataFrame({'Mean Bias' : mean_bias_each_day_db, 'Median Bias' : median_bias_each_day_db, \n",
    "                 'Standard Error' : std_error_each_day_db, 'Standard Deviation' : std_each_day_db}, \n",
    "                index=time) "
   ]
  },
  {
   "cell_type": "code",
   "execution_count": 79,
   "metadata": {},
   "outputs": [
    {
     "data": {
      "image/png": "[encoded data removed]",
      "text/plain": [
       "<Figure size 1080x576 with 1 Axes>"
      ]
     },
     "metadata": {
      "needs_background": "light"
     },
     "output_type": "display_data"
    }
   ],
   "source": [
    "#Make plot       \n",
    "fig, ax1 = plt.subplots(figsize=(15,8))    \n",
    "plt.errorbar(data.index, mean_bias_each_day_db, std_error_each_day_db, \n",
    "                  color='black',fmt='o',markersize='4', elinewidth=2,capsize=4)\n",
    "plt.plot([start_date_dt, end_date_dt],[median_bias_db,median_bias_db],'r-',\n",
    "                  label=\"Median Bias = %s\" % round(median_bias_db,2))\n",
    "plt.plot([start_date_dt, end_date_dt],[mean_bias_db,mean_bias_db],'g', \n",
    "                  label=\"Mean Bias = %s\" % round(mean_bias_db,2))\n",
    "#plt.plot([start_date_dt, end_date_dt],[mean_bias_db+std_db*2,mean_bias_db+std_db*2],'g--',\n",
    "#                  label=\"2XStandard Deviation %s\" % round(std_db,2))\n",
    "#plt.plot([start_date_dt, end_date_dt],[mean_bias_db-std_db*2,mean_bias_db-std_db*2],'g--')\n",
    "\n",
    "plt.plot([start_date_dt, end_date_dt],[mean_bias_db+std_db,mean_bias_db+std_db],'g--',\n",
    "                  label=\"Standard Deviation %s\" % round(std_db,2))\n",
    "plt.plot([start_date_dt, end_date_dt],[mean_bias_db-std_db,mean_bias_db-std_db],'g--')\n",
    "\n",
    "#plt.plot(monthly_mean.index,monthly_mean['Mean Bias'],'ro')\n",
    "\n",
    "#plt.plot(data.index, median_bias_each_day_db,'rx')\n",
    "\n",
    "plt.gca().xaxis.set_major_formatter(mdates.DateFormatter('%d-%m-%y'))\n",
    "plt.gca().xaxis.set_major_locator(mdates.MonthLocator(interval=1))\n",
    "plt.gca().xaxis.set_minor_locator(mdates.WeekdayLocator(interval=1))\n",
    "plt.xlim(start_date_dt,end_date_dt)\n",
    "\n",
    "plt.xticks(rotation=90)\n",
    "plt.xlabel('Time',{'fontsize':18})\n",
    "plt.ylabel('Z Bias (dBZ)',{'fontsize':18})\n",
    "plt.yticks(size=18)\n",
    "plt.xticks(size=18)\n",
    "plt.grid()\n",
    "plt.legend(loc=0,fontsize=18)\n",
    "   \n",
    "    #If you want to overlay number of rays for each data point then uncomment these lines.\n",
    "    #May need some tweaking to get the yaxis scale correct for the data you are plotting. \n",
    "#    ax2=ax1.twinx()\n",
    "#    ax2.set_ylim(0,20000)\n",
    "#    ax2.plot(data.index, num_rays_day,'bx-')\n",
    "#    ax2.set_yticks([5000, 10000])\n",
    "#    ax2.set_yticks([1000, 2000, 3000, 4000, 7500],minor=True)\n",
    "#    plt.ylabel('Total number of Rays',{'fontsize':18})\n",
    "#    plt.yticks(size=18)\n",
    "#    plt.xlim(start_date_dt,end_date_dt)\n",
    "\n",
    "#Save the plot\n",
    "imgname = f'{img_dir}/Z_calibration_{start_date}_{end_date}_281021.png'\n",
    "plt.tight_layout()\n",
    "#plt.savefig(imgname,dpi=150)        \n",
    "            "
   ]
  },
  {
   "cell_type": "code",
   "execution_count": null,
   "metadata": {},
   "outputs": [],
   "source": []
  },
  {
   "cell_type": "code",
   "execution_count": null,
   "metadata": {},
   "outputs": [],
   "source": []
  },
  {
   "cell_type": "code",
   "execution_count": null,
   "metadata": {},
   "outputs": [],
   "source": []
  }
 ],
 "metadata": {
  "kernelspec": {
   "display_name": "Python 3",
   "language": "python",
   "name": "python3"
  },
  "language_info": {
   "codemirror_mode": {
    "name": "ipython",
    "version": 3
   },
   "file_extension": ".py",
   "mimetype": "text/x-python",
   "name": "python",
   "nbconvert_exporter": "python",
   "pygments_lexer": "ipython3",
   "version": "3.8.6"
  }
 },
 "nbformat": 4,
 "nbformat_minor": 4
}
